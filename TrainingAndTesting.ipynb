{
 "cells": [
  {
   "cell_type": "markdown",
   "metadata": {},
   "source": [
    "# Training and Testing\n",
    "此notebook将引导您完成训练与预测过程，其前身是首次构建模型过程中超参数调优等绝大部分非可视化工作的尝试地方\n",
    "\n",
    "您需要正确安装以下依赖库：\n",
    "* pandas\n",
    "* numpy\n",
    "* xgboost\n",
    "* scikit-learn\n",
    "* imbalanced-learn\n",
    "\n",
    "如果您有调用神经网络的需求，还需要：\n",
    "* tensorflow >= 2.0.0"
   ]
  },
  {
   "cell_type": "code",
   "execution_count": 1,
   "metadata": {},
   "outputs": [],
   "source": [
    "import pandas as pd\n",
    "import numpy as np\n",
    "import xgboost as xgb\n",
    "\n",
    "from sklearn.ensemble import RandomForestClassifier, GradientBoostingClassifier\n",
    "from sklearn.linear_model import LogisticRegression\n",
    "from sklearn.model_selection import train_test_split, StratifiedKFold\n",
    "from sklearn.metrics import roc_curve, auc"
   ]
  },
  {
   "cell_type": "markdown",
   "metadata": {},
   "source": [
    "## 特征的变换与增加\n",
    "受到kaggle上[高分选手经验](https://www.kaggle.com/c/GiveMeSomeCredit/discussion/1166)的启发，添加或修改特征可以提高最终的模型性能。进调试后，因此最终添加至20个特征。\n",
    "\n",
    "详细的添加思路请参阅项目报告。"
   ]
  },
  {
   "cell_type": "code",
   "execution_count": 2,
   "metadata": {},
   "outputs": [],
   "source": [
    "def add_features(data):\n",
    "    # 家属数量\n",
    "    data['NoDependents'] = data['NumberOfDependents'] == 0\n",
    "    data['NumberOfDependents'].fillna(0, inplace=True)  #如果是nan，那么NoDependents不会是0\n",
    "\n",
    "    # 钱取对数，补0，但补出来的0则NoMonthlyIncome不会是1\n",
    "    data['NoIncome'] = data['MonthlyIncome'] == 0\n",
    "    data['LogIncome'] = np.log(data['MonthlyIncome'])\n",
    "    data.loc[~np.isfinite(data['LogIncome']), 'LogIncome'] = 0\n",
    "    data.loc[pd.isnull(data['LogIncome']), 'LogIncome'] = 0\n",
    "    \n",
    "    # 手动分箱&年龄\n",
    "    data['LowIncome'] = data['MonthlyIncome'] < 180  # 事实证明这个有点重要，由下方calc WOE确定\n",
    "    data['YoungAge'] = data['age'] < 24\n",
    "    data['OldAge'] = data['age'] > 65\n",
    "    \n",
    "    # 取个对数效果不错\n",
    "    data['LogAge'] = np.log(data['age'])\n",
    "\n",
    "    # 月收入对家属数平均\n",
    "    data['LogIncomePerPerson'] = data['LogIncome'] / data['NumberOfDependents']\n",
    "    data.loc[~np.isfinite(data['LogIncomePerPerson']), 'LogIncomePerPerson'] = 0  # 暴力处理（反正有标记）\n",
    "    \n",
    "    # 负债率乘月收入（本地与kaggle均证明乘取了对数后的月收入效果更好）\n",
    "    data['NoDebtRatio'] = data['DebtRatio'] == 0\n",
    "    data['LogDebtRatio'] = np.log(data['DebtRatio'])\n",
    "    data.loc[~np.isfinite(data['LogDebtRatio']), 'LogDebtRatio'] = 0\n",
    "    data['LogDebt'] = np.log(data['DebtRatio'] * data['LogIncome'])\n",
    "    data.loc[~np.isfinite(data['LogDebt']), 'LogDebt'] = 0    # 暴力处理，有标记（但现在没了），非无穷值最低-8.2\n",
    "    \n",
    "    data['LogDebtPerPerson'] = data['LogDebt'] / data['NumberOfDependents']\n",
    "    data.loc[~np.isfinite(data['LogDebtPerPerson']), 'LogDebtPerPerson'] = 0   # 暴力处，非无穷值最低-7.07\n",
    "\n",
    "    # 对RevolvingUtilizationOfUnsecuredLines取对数\n",
    "    data['NoRevolvingUtilizationOfUnsecuredLines'] = data['RevolvingUtilizationOfUnsecuredLines']==0 # 无标记，加上后显著提升AUC\n",
    "    data['LogRevolvingUtilizationOfUnsecuredLines'] = np.log(data['RevolvingUtilizationOfUnsecuredLines'])\n",
    "    data.loc[~np.isfinite(data['LogRevolvingUtilizationOfUnsecuredLines']), 'LogRevolvingUtilizationOfUnsecuredLines'] = 0\n",
    "\n",
    "    # 以下列不要了\n",
    "    data.drop(['MonthlyIncome', 'age', 'RevolvingUtilizationOfUnsecuredLines', 'DebtRatio'], axis=1, inplace=True)\n",
    "\n",
    "#     print(data.columns)\n",
    "    return data"
   ]
  },
  {
   "cell_type": "markdown",
   "metadata": {},
   "source": [
    "## 数据读取\n",
    "在读取的同时做数据清洗，清洗策略基于可视化过程确定，目前有：\n",
    "* 删除重复条目\n",
    "* 删除年龄为0的条目\n",
    "* 删除30-59天内违约数不小于80的条目"
   ]
  },
  {
   "cell_type": "code",
   "execution_count": 3,
   "metadata": {},
   "outputs": [],
   "source": [
    "data = pd.read_csv('cs-training.csv', index_col=0)\n",
    "data.drop_duplicates(inplace=True)\n",
    "data = data[data['age']!=0]\n",
    "data = data[data['NumberOfTime30-59DaysPastDueNotWorse']<80]\n",
    "\n",
    "data.index=range(data.shape[0])"
   ]
  },
  {
   "cell_type": "markdown",
   "metadata": {},
   "source": [
    "### 尝试lowInome边界\n",
    "使用WOE作为依据，尝试150附近的数，并结合交叉验证集选定\n",
    "\n",
    "并非必要执行，只是留档"
   ]
  },
  {
   "cell_type": "code",
   "execution_count": 4,
   "metadata": {},
   "outputs": [
    {
     "name": "stdout",
     "output_type": "stream",
     "text": [
      "(0.22442932243062408, -0.05316683728078431)\n"
     ]
    }
   ],
   "source": [
    "def calc_WOE_binary(X, y, interval):\n",
    "    X = X.copy()\n",
    "    X[np.isnan(X)] = 0\n",
    "    \n",
    "    tot1 = np.sum(y == 0)\n",
    "    tot2 = np.sum(y == 1)\n",
    "    \n",
    "    c1 = np.sum((y == 0) & (X < interval))\n",
    "    c2 = np.sum((y == 1) & (X < interval))\n",
    "    \n",
    "    WOE1 = np.log(c1/tot1 / (c2/tot2))\n",
    "    \n",
    "    c1 = np.sum((y == 0) & (X >= interval))\n",
    "    c2 = np.sum((y == 1) & (X >= interval))\n",
    "    \n",
    "    WOE2 = np.log(c1/tot1 / (c2/tot2))\n",
    "    \n",
    "    return WOE1, WOE2\n",
    "\n",
    "# 180效果不错，180为低收入分界线\n",
    "print(calc_WOE_binary(data['MonthlyIncome'].values, data['SeriousDlqin2yrs'].values, 180))"
   ]
  },
  {
   "cell_type": "markdown",
   "metadata": {},
   "source": [
    "### 为数据集增加特征\n",
    "调用函数"
   ]
  },
  {
   "cell_type": "code",
   "execution_count": 5,
   "metadata": {},
   "outputs": [
    {
     "name": "stderr",
     "output_type": "stream",
     "text": [
      "D:\\Anaconda3\\envs\\tf2\\lib\\site-packages\\pandas\\core\\series.py:679: RuntimeWarning: divide by zero encountered in log\n",
      "  result = getattr(ufunc, method)(*inputs, **kwargs)\n"
     ]
    },
    {
     "data": {
      "text/html": [
       "<div>\n",
       "<style scoped>\n",
       "    .dataframe tbody tr th:only-of-type {\n",
       "        vertical-align: middle;\n",
       "    }\n",
       "\n",
       "    .dataframe tbody tr th {\n",
       "        vertical-align: top;\n",
       "    }\n",
       "\n",
       "    .dataframe thead th {\n",
       "        text-align: right;\n",
       "    }\n",
       "</style>\n",
       "<table border=\"1\" class=\"dataframe\">\n",
       "  <thead>\n",
       "    <tr style=\"text-align: right;\">\n",
       "      <th></th>\n",
       "      <th>SeriousDlqin2yrs</th>\n",
       "      <th>NumberOfTime30-59DaysPastDueNotWorse</th>\n",
       "      <th>NumberOfOpenCreditLinesAndLoans</th>\n",
       "      <th>NumberOfTimes90DaysLate</th>\n",
       "      <th>NumberRealEstateLoansOrLines</th>\n",
       "      <th>NumberOfTime60-89DaysPastDueNotWorse</th>\n",
       "      <th>NumberOfDependents</th>\n",
       "      <th>LogIncome</th>\n",
       "      <th>LogAge</th>\n",
       "      <th>LogIncomePerPerson</th>\n",
       "      <th>LogDebtRatio</th>\n",
       "      <th>LogDebt</th>\n",
       "      <th>LogDebtPerPerson</th>\n",
       "      <th>LogRevolvingUtilizationOfUnsecuredLines</th>\n",
       "    </tr>\n",
       "  </thead>\n",
       "  <tbody>\n",
       "    <tr>\n",
       "      <th>count</th>\n",
       "      <td>149165.000000</td>\n",
       "      <td>149165.000000</td>\n",
       "      <td>149165.000000</td>\n",
       "      <td>149165.000000</td>\n",
       "      <td>149165.000000</td>\n",
       "      <td>149165.000000</td>\n",
       "      <td>149165.000000</td>\n",
       "      <td>149165.000000</td>\n",
       "      <td>149165.000000</td>\n",
       "      <td>149165.000000</td>\n",
       "      <td>149165.000000</td>\n",
       "      <td>149165.000000</td>\n",
       "      <td>149165.000000</td>\n",
       "      <td>149165.000000</td>\n",
       "    </tr>\n",
       "    <tr>\n",
       "      <th>mean</th>\n",
       "      <td>0.066188</td>\n",
       "      <td>0.246720</td>\n",
       "      <td>8.493688</td>\n",
       "      <td>0.090725</td>\n",
       "      <td>1.023927</td>\n",
       "      <td>0.065069</td>\n",
       "      <td>0.740911</td>\n",
       "      <td>6.768152</td>\n",
       "      <td>3.915398</td>\n",
       "      <td>2.137131</td>\n",
       "      <td>0.101741</td>\n",
       "      <td>0.463354</td>\n",
       "      <td>0.191670</td>\n",
       "      <td>-1.839850</td>\n",
       "    </tr>\n",
       "    <tr>\n",
       "      <th>std</th>\n",
       "      <td>0.248612</td>\n",
       "      <td>0.698935</td>\n",
       "      <td>5.129841</td>\n",
       "      <td>0.486354</td>\n",
       "      <td>1.130350</td>\n",
       "      <td>0.330675</td>\n",
       "      <td>1.108534</td>\n",
       "      <td>3.547192</td>\n",
       "      <td>0.297364</td>\n",
       "      <td>3.242984</td>\n",
       "      <td>3.540340</td>\n",
       "      <td>1.259980</td>\n",
       "      <td>0.599487</td>\n",
       "      <td>1.787633</td>\n",
       "    </tr>\n",
       "    <tr>\n",
       "      <th>min</th>\n",
       "      <td>0.000000</td>\n",
       "      <td>0.000000</td>\n",
       "      <td>0.000000</td>\n",
       "      <td>0.000000</td>\n",
       "      <td>0.000000</td>\n",
       "      <td>0.000000</td>\n",
       "      <td>0.000000</td>\n",
       "      <td>0.000000</td>\n",
       "      <td>3.044522</td>\n",
       "      <td>0.000000</td>\n",
       "      <td>-10.557414</td>\n",
       "      <td>-8.200695</td>\n",
       "      <td>-7.069207</td>\n",
       "      <td>-11.690857</td>\n",
       "    </tr>\n",
       "    <tr>\n",
       "      <th>25%</th>\n",
       "      <td>0.000000</td>\n",
       "      <td>0.000000</td>\n",
       "      <td>5.000000</td>\n",
       "      <td>0.000000</td>\n",
       "      <td>0.000000</td>\n",
       "      <td>0.000000</td>\n",
       "      <td>0.000000</td>\n",
       "      <td>7.377759</td>\n",
       "      <td>3.713572</td>\n",
       "      <td>0.000000</td>\n",
       "      <td>-1.632189</td>\n",
       "      <td>0.000000</td>\n",
       "      <td>0.000000</td>\n",
       "      <td>-2.991709</td>\n",
       "    </tr>\n",
       "    <tr>\n",
       "      <th>50%</th>\n",
       "      <td>0.000000</td>\n",
       "      <td>0.000000</td>\n",
       "      <td>8.000000</td>\n",
       "      <td>0.000000</td>\n",
       "      <td>1.000000</td>\n",
       "      <td>0.000000</td>\n",
       "      <td>0.000000</td>\n",
       "      <td>8.389360</td>\n",
       "      <td>3.951244</td>\n",
       "      <td>0.000000</td>\n",
       "      <td>-0.947048</td>\n",
       "      <td>0.623187</td>\n",
       "      <td>0.000000</td>\n",
       "      <td>-1.466526</td>\n",
       "    </tr>\n",
       "    <tr>\n",
       "      <th>75%</th>\n",
       "      <td>0.000000</td>\n",
       "      <td>0.000000</td>\n",
       "      <td>11.000000</td>\n",
       "      <td>0.000000</td>\n",
       "      <td>2.000000</td>\n",
       "      <td>0.000000</td>\n",
       "      <td>1.000000</td>\n",
       "      <td>8.910721</td>\n",
       "      <td>4.143135</td>\n",
       "      <td>4.173321</td>\n",
       "      <td>0.000000</td>\n",
       "      <td>1.273040</td>\n",
       "      <td>0.317553</td>\n",
       "      <td>-0.280433</td>\n",
       "    </tr>\n",
       "    <tr>\n",
       "      <th>max</th>\n",
       "      <td>1.000000</td>\n",
       "      <td>13.000000</td>\n",
       "      <td>58.000000</td>\n",
       "      <td>17.000000</td>\n",
       "      <td>54.000000</td>\n",
       "      <td>11.000000</td>\n",
       "      <td>20.000000</td>\n",
       "      <td>14.917035</td>\n",
       "      <td>4.691348</td>\n",
       "      <td>13.885503</td>\n",
       "      <td>12.705829</td>\n",
       "      <td>6.928889</td>\n",
       "      <td>6.619291</td>\n",
       "      <td>10.833839</td>\n",
       "    </tr>\n",
       "  </tbody>\n",
       "</table>\n",
       "</div>"
      ],
      "text/plain": [
       "       SeriousDlqin2yrs  NumberOfTime30-59DaysPastDueNotWorse  \\\n",
       "count     149165.000000                         149165.000000   \n",
       "mean           0.066188                              0.246720   \n",
       "std            0.248612                              0.698935   \n",
       "min            0.000000                              0.000000   \n",
       "25%            0.000000                              0.000000   \n",
       "50%            0.000000                              0.000000   \n",
       "75%            0.000000                              0.000000   \n",
       "max            1.000000                             13.000000   \n",
       "\n",
       "       NumberOfOpenCreditLinesAndLoans  NumberOfTimes90DaysLate  \\\n",
       "count                    149165.000000            149165.000000   \n",
       "mean                          8.493688                 0.090725   \n",
       "std                           5.129841                 0.486354   \n",
       "min                           0.000000                 0.000000   \n",
       "25%                           5.000000                 0.000000   \n",
       "50%                           8.000000                 0.000000   \n",
       "75%                          11.000000                 0.000000   \n",
       "max                          58.000000                17.000000   \n",
       "\n",
       "       NumberRealEstateLoansOrLines  NumberOfTime60-89DaysPastDueNotWorse  \\\n",
       "count                 149165.000000                         149165.000000   \n",
       "mean                       1.023927                              0.065069   \n",
       "std                        1.130350                              0.330675   \n",
       "min                        0.000000                              0.000000   \n",
       "25%                        0.000000                              0.000000   \n",
       "50%                        1.000000                              0.000000   \n",
       "75%                        2.000000                              0.000000   \n",
       "max                       54.000000                             11.000000   \n",
       "\n",
       "       NumberOfDependents      LogIncome         LogAge  LogIncomePerPerson  \\\n",
       "count       149165.000000  149165.000000  149165.000000       149165.000000   \n",
       "mean             0.740911       6.768152       3.915398            2.137131   \n",
       "std              1.108534       3.547192       0.297364            3.242984   \n",
       "min              0.000000       0.000000       3.044522            0.000000   \n",
       "25%              0.000000       7.377759       3.713572            0.000000   \n",
       "50%              0.000000       8.389360       3.951244            0.000000   \n",
       "75%              1.000000       8.910721       4.143135            4.173321   \n",
       "max             20.000000      14.917035       4.691348           13.885503   \n",
       "\n",
       "        LogDebtRatio        LogDebt  LogDebtPerPerson  \\\n",
       "count  149165.000000  149165.000000     149165.000000   \n",
       "mean        0.101741       0.463354          0.191670   \n",
       "std         3.540340       1.259980          0.599487   \n",
       "min       -10.557414      -8.200695         -7.069207   \n",
       "25%        -1.632189       0.000000          0.000000   \n",
       "50%        -0.947048       0.623187          0.000000   \n",
       "75%         0.000000       1.273040          0.317553   \n",
       "max        12.705829       6.928889          6.619291   \n",
       "\n",
       "       LogRevolvingUtilizationOfUnsecuredLines  \n",
       "count                            149165.000000  \n",
       "mean                                 -1.839850  \n",
       "std                                   1.787633  \n",
       "min                                 -11.690857  \n",
       "25%                                  -2.991709  \n",
       "50%                                  -1.466526  \n",
       "75%                                  -0.280433  \n",
       "max                                  10.833839  "
      ]
     },
     "execution_count": 5,
     "metadata": {},
     "output_type": "execute_result"
    }
   ],
   "source": [
    "data = add_features(data)\n",
    "data.describe()"
   ]
  },
  {
   "cell_type": "markdown",
   "metadata": {},
   "source": [
    "## 神经网络训练\n",
    "仅是函数定义，实际运行需要：\n",
    "* tensorflow >= 2.0.0"
   ]
  },
  {
   "cell_type": "code",
   "execution_count": 6,
   "metadata": {},
   "outputs": [],
   "source": [
    "def train_nn(X, y, X_test):\n",
    "    from tensorflow import keras\n",
    "    from tensorflow.keras import models, regularizers\n",
    "    from tensorflow.keras.layers import Dense, Dropout\n",
    "    from tensorflow.keras.optimizers import SGD\n",
    "    from tensorflow.keras.callbacks import LearningRateScheduler\n",
    "        \n",
    "    # 标准化\n",
    "    from sklearn.preprocessing import StandardScaler\n",
    "    scaler = StandardScaler().fit(X)\n",
    "    X = scaler.transform(X)\n",
    "    X_test = scaler.transform(X_test)\n",
    "    \n",
    "    _wd, batch_size, epochs = 1e-4, 512, 10\n",
    "    \n",
    "    model = models.Sequential([\n",
    "        Dense(25, activation='sigmoid', kernel_regularizer=regularizers.l2(_wd)),\n",
    "        Dropout(0.1),\n",
    "        Dense(1, activation='sigmoid', kernel_regularizer=regularizers.l2(_wd))\n",
    "    ])\n",
    "    model.compile(optimizer=SGD(lr=0.05, momentum=0.99), loss='binary_crossentropy', metrics=['accuracy'])\n",
    "    \n",
    "    model.fit(X, y, epochs = epochs, batch_size=batch_size, callbacks=[LearningRateScheduler(lambda e: 0.05 if e <= 5 else 0.01)])\n",
    "    \n",
    "    y_prob = model.predict(X)\n",
    "    y_test = model.predict(X_test)\n",
    "    \n",
    "    return y_prob[:,0], y_test[:,0], model"
   ]
  },
  {
   "cell_type": "markdown",
   "metadata": {},
   "source": [
    "## 训练函数\n",
    "多模型独立训练，后接线性分类器。\n",
    "\n",
    "除神经网络外的所有分类器均在此设置超参数。"
   ]
  },
  {
   "cell_type": "code",
   "execution_count": 7,
   "metadata": {},
   "outputs": [],
   "source": [
    "def fit_classifiers(train, test, apply_nn=False):\n",
    "    # 大体框架来源于github，加了些东西\n",
    "    cols = [c for c in train.columns if c not in ['SeriousDlqin2yrs']]\n",
    "\n",
    "    classifiers = dict()\n",
    "#     classifiers['rf'] = RandomForestClassifier(n_estimators=300, learning_rate=0.1)\n",
    "#     classifiers['gbm'] = GradientBoostingClassifier(n_estimators=300, learning_rate=0.05)\n",
    "    classifiers['xgb1'] = xgb.XGBClassifier(max_depth=3, n_estimators=320, learning_rate=0.05)\n",
    "    classifiers['xgb2'] = xgb.XGBClassifier(max_depth=3, n_estimators=300, learning_rate=0.05)\n",
    "#     classifiers['xgb3'] = xgb.XGBClassifier(max_depth=3, n_estimators=340, learning_rate=0.05)\n",
    "\n",
    "    # make np arrays from pandas dataframe\n",
    "    X, y = train[cols].values, train['SeriousDlqin2yrs'].values\n",
    "    X_test = test[cols].values\n",
    "    \n",
    "    # 过采样后，kaggle评分极轻微下降，但测试结果的0-1分布更平滑\n",
    "    from imblearn.over_sampling import RandomOverSampler, SMOTE\n",
    "    resampler = RandomOverSampler()\n",
    "#     resampler = SMOTE() # 此处可加参数kind='borderline1','borderline2','svm'\n",
    "    \n",
    "    print(X.shape)\n",
    "    X, y = resampler.fit_sample(X, y)\n",
    "    print(X.shape)\n",
    "    \n",
    "    model_num = len(classifiers)\n",
    "    if apply_nn:\n",
    "        model_num += 1\n",
    "    train_probs = np.zeros((X.shape[0], model_num))\n",
    "    test_probs = np.zeros((X_test.shape[0], model_num))\n",
    "    \n",
    "    # 5-flod交叉验证\n",
    "    N_folds = 5\n",
    "    folds = StratifiedKFold(n_splits=N_folds)\n",
    "    \n",
    "    for clf_idx, clf in enumerate(classifiers.values()):\n",
    "        current_test = np.zeros((test.shape[0], N_folds))\n",
    "        print(\"clf_idx = \", clf_idx)\n",
    "        for fold_idx, (fold_train, fold_test) in enumerate(folds.split(X, y)):\n",
    "            print(\"fold_idx = \", fold_idx)\n",
    "            clf.fit(X[fold_train], y[fold_train])\n",
    "            train_probs[fold_test, clf_idx] = clf.predict_proba(X[fold_test])[:,1]  # 只用预测值更新本次作为交叉验证的那些\n",
    "            current_test[:, fold_idx] = clf.predict_proba(X_test)[:,1]\n",
    "        test_probs[:, clf_idx] = current_test.mean(axis=1)\n",
    "\n",
    "    if apply_nn:\n",
    "        train_probs[:, -1], test_probs[:, -1], classifiers['nn'] = train_nn(X, y, X_test)\n",
    "    \n",
    "    # solver仅支持以下几个参数'liblinear', 'newton-cg', 'lbfgs', 'sag', 'saga'\n",
    "    print('Training linear')\n",
    "    logistic = LogisticRegression(solver='liblinear').fit(train_probs, y)\n",
    "    \n",
    "    probs_t = logistic.predict_proba(train_probs)[:,1]\n",
    "    fpr, tpr, _ = roc_curve(y, probs_t)\n",
    "    print('AUC of train', auc(fpr, tpr))\n",
    "    \n",
    "    probs = logistic.predict_proba(test_probs)[:,1]\n",
    "    \n",
    "    classifiers['final-linear'] = logistic\n",
    "\n",
    "    return probs, classifiers"
   ]
  },
  {
   "cell_type": "markdown",
   "metadata": {},
   "source": [
    "## 本地训练(调参用)\n",
    "首先分出30%作为验证集，不参与训练。\n",
    "\n",
    "注：默认开启使用神经网络，关闭请将```apply_nn```设置为```False```\n",
    "\n",
    "输出训练集与测试集的AUC（非必须执行）"
   ]
  },
  {
   "cell_type": "code",
   "execution_count": 8,
   "metadata": {
    "scrolled": true
   },
   "outputs": [
    {
     "name": "stdout",
     "output_type": "stream",
     "text": [
      "(104415, 20)\n",
      "(194990, 20)\n",
      "clf_idx =  0\n",
      "fold_idx =  0\n",
      "fold_idx =  1\n",
      "fold_idx =  2\n",
      "fold_idx =  3\n",
      "fold_idx =  4\n",
      "clf_idx =  1\n",
      "fold_idx =  0\n",
      "fold_idx =  1\n",
      "fold_idx =  2\n",
      "fold_idx =  3\n",
      "fold_idx =  4\n",
      "Train on 194990 samples\n",
      "Epoch 1/10\n",
      "194990/194990 [==============================] - 6s 29us/sample - loss: 0.5425 - accuracy: 0.7372\n",
      "Epoch 2/10\n",
      "194990/194990 [==============================] - 1s 5us/sample - loss: 0.4912 - accuracy: 0.7728\n",
      "Epoch 3/10\n",
      "194990/194990 [==============================] - 1s 5us/sample - loss: 0.4866 - accuracy: 0.7742\n",
      "Epoch 4/10\n",
      "194990/194990 [==============================] - 1s 5us/sample - loss: 0.4850 - accuracy: 0.7737\n",
      "Epoch 5/10\n",
      "194990/194990 [==============================] - 1s 5us/sample - loss: 0.4839 - accuracy: 0.7742\n",
      "Epoch 6/10\n",
      "194990/194990 [==============================] - 1s 5us/sample - loss: 0.4829 - accuracy: 0.7742\n",
      "Epoch 7/10\n",
      "194990/194990 [==============================] - 1s 5us/sample - loss: 0.4863 - accuracy: 0.7727\n",
      "Epoch 8/10\n",
      "194990/194990 [==============================] - 1s 5us/sample - loss: 0.4810 - accuracy: 0.7762\n",
      "Epoch 9/10\n",
      "194990/194990 [==============================] - 1s 5us/sample - loss: 0.4813 - accuracy: 0.7761\n",
      "Epoch 10/10\n",
      "194990/194990 [==============================] - ETA: 0s - loss: 0.4807 - accuracy: 0.77 - 1s 5us/sample - loss: 0.4806 - accuracy: 0.7770\n",
      "Training linear\n",
      "AUC of train 0.8728346292115834\n",
      "AUC of test 0.8672282041834097\n"
     ]
    }
   ],
   "source": [
    "train, validate = train_test_split(data, test_size=0.3)\n",
    "\n",
    "result, model = fit_classifiers(train, validate, apply_nn=True) # 不使用神经网络请将apply_nn设为False\n",
    "fpr, tpr, _ = roc_curve(validate['SeriousDlqin2yrs'], result)\n",
    "print('AUC of test', auc(fpr, tpr))"
   ]
  },
  {
   "cell_type": "markdown",
   "metadata": {},
   "source": [
    "## 真正训练（预测用）\n",
    "不分验证集，全部作为训练集训练，同时预测测试集，适用于超参数调整好后重新训练。\n",
    "\n",
    "默认不使用神经网络。\n",
    "\n",
    "将重新从文件读取数据。\n",
    "\n",
    "最终结果与随机种子有关，最高达到0.86780，平均0.86772."
   ]
  },
  {
   "cell_type": "code",
   "execution_count": 9,
   "metadata": {},
   "outputs": [
    {
     "name": "stderr",
     "output_type": "stream",
     "text": [
      "D:\\Anaconda3\\envs\\tf2\\lib\\site-packages\\pandas\\core\\series.py:679: RuntimeWarning: divide by zero encountered in log\n",
      "  result = getattr(ufunc, method)(*inputs, **kwargs)\n"
     ]
    },
    {
     "name": "stdout",
     "output_type": "stream",
     "text": [
      "(149165, 20)\n",
      "(278584, 20)\n",
      "clf_idx =  0\n",
      "fold_idx =  0\n",
      "fold_idx =  1\n",
      "fold_idx =  2\n",
      "fold_idx =  3\n",
      "fold_idx =  4\n",
      "clf_idx =  1\n",
      "fold_idx =  0\n",
      "fold_idx =  1\n",
      "fold_idx =  2\n",
      "fold_idx =  3\n",
      "fold_idx =  4\n",
      "Training linear\n",
      "AUC of train 0.8720449603672547\n",
      "Done!\n"
     ]
    }
   ],
   "source": [
    "data  = pd.read_csv('cs-training.csv',index_col=0)\n",
    "test  = pd.read_csv('cs-test.csv', index_col=0)\n",
    "\n",
    "data.drop_duplicates(inplace=True)\n",
    "data = data[data['age']!=0]\n",
    "data = data[data['NumberOfTime30-59DaysPastDueNotWorse']<80]\n",
    "data.index=range(data.shape[0])\n",
    "\n",
    "# np.random.seed(0)\n",
    "\n",
    "test.drop('SeriousDlqin2yrs', axis=1, inplace=True)\n",
    "# 增加特征\n",
    "data = add_features(data)\n",
    "test = add_features(test)\n",
    "\n",
    "probs, models = fit_classifiers(data, test, apply_nn=False) # 使用神经网络请将apply_nn设为True\n",
    "\n",
    "print(\"Done!\")"
   ]
  },
  {
   "cell_type": "markdown",
   "metadata": {},
   "source": [
    "## 评分函数定义\n",
    "评分函数：\n",
    "\n",
    "$$score = 600-81.8\\ln\\frac{p}{1-p}$$\n",
    "\n",
    "其中，81.8的确定经统计学方法分析与计算得到，详见项目报告。"
   ]
  },
  {
   "cell_type": "code",
   "execution_count": 10,
   "metadata": {},
   "outputs": [],
   "source": [
    "def get_score(p):\n",
    "    score = 600 - 81.8 * np.log(p/(1-p))\n",
    "    if score < 300:\n",
    "        score = 300\n",
    "    elif score > 900:\n",
    "        score = 900\n",
    "    return score"
   ]
  },
  {
   "cell_type": "code",
   "execution_count": 11,
   "metadata": {},
   "outputs": [],
   "source": [
    "# 同时输出分数\n",
    "with open(\"predict_score.csv\", 'w') as f:\n",
    "    f.write('Id,Probability,Score\\n')\n",
    "    for idx, pr in zip(range(1, len(probs)+1), probs):\n",
    "        f.write('{},{:.9f}, {:.9f}\\n'.format(idx, pr, get_score(pr)))"
   ]
  },
  {
   "cell_type": "code",
   "execution_count": 12,
   "metadata": {},
   "outputs": [],
   "source": [
    "# 不输出分数，仅用于提交\n",
    "with open(\"submit.csv\", 'w') as f:\n",
    "    f.write('Id,Probability\\n')\n",
    "    for idx, pr in zip(range(1, len(probs)+1), probs):\n",
    "        f.write('{},{:.9f}\\n'.format(idx, pr))"
   ]
  },
  {
   "cell_type": "markdown",
   "metadata": {},
   "source": [
    "## 特征重要性\n",
    "特征f0至f19依次对应columns下标\n",
    "\n",
    "更直观的可视化请参阅项目报告或Visualization.ipynb"
   ]
  },
  {
   "cell_type": "code",
   "execution_count": 13,
   "metadata": {},
   "outputs": [
    {
     "name": "stdout",
     "output_type": "stream",
     "text": [
      "Index(['NumberOfTime30-59DaysPastDueNotWorse',\n",
      "       'NumberOfOpenCreditLinesAndLoans', 'NumberOfTimes90DaysLate',\n",
      "       'NumberRealEstateLoansOrLines', 'NumberOfTime60-89DaysPastDueNotWorse',\n",
      "       'NumberOfDependents', 'NoDependents', 'NoIncome', 'LogIncome',\n",
      "       'LowIncome', 'YoungAge', 'OldAge', 'LogAge', 'LogIncomePerPerson',\n",
      "       'NoDebtRatio', 'LogDebtRatio', 'LogDebt', 'LogDebtPerPerson',\n",
      "       'NoRevolvingUtilizationOfUnsecuredLines',\n",
      "       'LogRevolvingUtilizationOfUnsecuredLines'],\n",
      "      dtype='object')\n"
     ]
    },
    {
     "data": {
      "text/plain": [
       "<matplotlib.axes._subplots.AxesSubplot at 0x29586e93ac8>"
      ]
     },
     "execution_count": 13,
     "metadata": {},
     "output_type": "execute_result"
    },
    {
     "data": {
      "image/png": "[encoded data removed]",
      "text/plain": [
       "<Figure size 432x288 with 1 Axes>"
      ]
     },
     "metadata": {
      "needs_background": "light"
     },
     "output_type": "display_data"
    },
    {
     "data": {
      "image/png": "[encoded data removed]",
      "text/plain": [
       "<Figure size 432x288 with 1 Axes>"
      ]
     },
     "metadata": {
      "needs_background": "light"
     },
     "output_type": "display_data"
    }
   ],
   "source": [
    "print(test.columns)\n",
    "xgb.plot_importance(models['xgb1'],importance_type='gain', show_values=False)\n",
    "xgb.plot_importance(models['xgb2'],importance_type='gain', show_values=False)"
   ]
  },
  {
   "cell_type": "code",
   "execution_count": 170,
   "metadata": {},
   "outputs": [],
   "source": [
    "# 保存模型\n",
    "from sklearn.externals import joblib\n",
    "joblib.dump(models['final-linear'], 'final_linear.model')\n",
    "\n",
    "for model_name in models:\n",
    "    if 'xgb' in model_name:\n",
    "        models[model_name].get_booster().save_model('{}.model'.format(model_name))\n",
    "\n",
    "# 读取的写法\n",
    "# lr = joblib.load('final_linear.model')\n",
    "\n",
    "# tar = xgb.Booster(model_file='xgb.model')\n",
    "# x_test = xgb.DMatrix(x_test)\n",
    "# pre=tar.predict(x_test)"
   ]
  },
  {
   "cell_type": "markdown",
   "metadata": {},
   "source": [
    "## 预测\n",
    "需要刚刚训练过才可调用，或可以修改从文件读取的代码\n",
    "\n",
    "输入：一个pd.DataFrame，要求特征没有SeriousDlqin2yrs，其余特征顺序与cs-trainning.csv或cs-test.csv**完全一致**\n",
    "\n",
    "输出：m维向量p，m为所输入DataFrame的条目数"
   ]
  },
  {
   "cell_type": "code",
   "execution_count": 14,
   "metadata": {},
   "outputs": [],
   "source": [
    "def predict_probs(df):\n",
    "    df = add_features(df)\n",
    "    X = df.values\n",
    "    \n",
    "    probs = np.zeros((X.shape[0], 2))\n",
    "    \n",
    "    probs[:, 0] = models['xgb1'].predict_proba(X)[:,1]\n",
    "    probs[:, 1] = models['xgb2'].predict_proba(X)[:,1]\n",
    "    \n",
    "    p = models['final-linear'].predict_proba(probs)[:,1]\n",
    "    return p"
   ]
  },
  {
   "cell_type": "code",
   "execution_count": 18,
   "metadata": {},
   "outputs": [
    {
     "name": "stdout",
     "output_type": "stream",
     "text": [
      "欢迎使用信用卡评分系统,请先输入验证码：2F5X\n",
      "验证码2F5X\n",
      "验证成功\n",
      "（除特殊注明外，以下内容请均填入整数阿拉伯数字）\n",
      "\n",
      "首先输入一些基本情况\n",
      "您的年龄：65\n",
      "您有多少亲属：4\n",
      "\n",
      "接下来输入您的财务信息\n",
      "您的月收入：5000\n",
      "目前的负债比率大概是多少：(0-1间的小数)0.01\n",
      "您有多少开放式信贷或贷款：0\n",
      "您有多少不动产信贷或贷款：0\n",
      "最后，您的可用额度比值是多少：(0-1间的小数)0.05\n",
      "\n",
      "最后是信用记录\n",
      "一个月延期次数：0\n",
      "两个月延期次数：0\n",
      "三个月延期次数：0\n",
      "您的信用评分是 756.3757974125027\n"
     ]
    }
   ],
   "source": [
    "# 预测代码\n",
    "d ={'RevolvingUtilizationOfUnsecuredLines':[0],'age':[0],'NumberOfTime30-59DaysPastDueNotWorse':[0],'DebtRatio':[0],'MonthlyIncome':[0],'NumberOfOpenCreditLinesAndLoans':[0],'NumberOfTimes90DaysLate':[0],'NumberRealEstateLoansOrLines':[0],'NumberOfTime60-89DaysPastDueNotWorse':[0],'NumberOfDependents':[0]}\n",
    "\n",
    "print(\"欢迎使用信用卡评分系统,请先输入验证码：2F5X\")\n",
    "s = str(input(\"验证码\"))\n",
    "if s == \"2F5X\" :\n",
    "    print(\"验证成功\\n（除特殊注明外，以下内容请均填入整数阿拉伯数字）\")\n",
    "\n",
    "    print(\"\\n首先输入一些基本情况\")\n",
    "    d['age'][0] = int(input(\"您的年龄：\"))\n",
    "    d['NumberOfDependents'][0] = int(input(\"您有多少亲属：\"))\n",
    "    \n",
    "    print(\"\\n接下来输入您的财务信息\")\n",
    "    d['MonthlyIncome'][0] = int(input(\"您的月收入：\"))\n",
    "    d['DebtRatio'][0] = float(input(\"目前的负债比率大概是多少：(0-1间的小数)\"))\n",
    "    d['NumberOfOpenCreditLinesAndLoans'][0] = int(input(\"您有多少开放式信贷或贷款：\"))\n",
    "    d['NumberRealEstateLoansOrLines'][0] = int(input(\"您有多少不动产信贷或贷款：\"))\n",
    "    d['RevolvingUtilizationOfUnsecuredLines'][0] = float(input(\"最后，您的可用额度比值是多少：(0-1间的小数)\"))\n",
    "        \n",
    "    print(\"\\n最后是信用记录\")\n",
    "    d['NumberOfTime30-59DaysPastDueNotWorse'][0] = int(input(\"一个月延期次数：\"))\n",
    "    d['NumberOfTime60-89DaysPastDueNotWorse'][0] = int(input(\"两个月延期次数：\"))\n",
    "    d['NumberOfTimes90DaysLate'][0] = int(input(\"三个月延期次数：\"))\n",
    "    \n",
    "    df = pd.DataFrame(data = d)\n",
    "    print(\"您的信用评分是\", get_score(predict_probs(df)[0]))"
   ]
  },
  {
   "cell_type": "markdown",
   "metadata": {},
   "source": [
    "使用 CC BY-SA 3.0 协议."
   ]
  }
 ],
 "metadata": {
  "kernelspec": {
   "display_name": "Python [conda env:tf2]",
   "language": "python",
   "name": "conda-env-tf2-py"
  },
  "language_info": {
   "codemirror_mode": {
    "name": "ipython",
    "version": 3
   },
   "file_extension": ".py",
   "mimetype": "text/x-python",
   "name": "python",
   "nbconvert_exporter": "python",
   "pygments_lexer": "ipython3",
   "version": "3.7.6"
  }
 },
 "nbformat": 4,
 "nbformat_minor": 2
}
